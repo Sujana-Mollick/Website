{
  "nbformat": 4,
  "nbformat_minor": 0,
  "metadata": {
    "colab": {
      "private_outputs": true,
      "provenance": [],
      "include_colab_link": true
    },
    "kernelspec": {
      "name": "python3",
      "display_name": "Python 3"
    },
    "language_info": {
      "name": "python"
    }
  },
  "cells": [
    {
      "cell_type": "markdown",
      "metadata": {
        "id": "view-in-github",
        "colab_type": "text"
      },
      "source": [
        "<a href=\"https://colab.research.google.com/github/Sujana-Mollick/Website/blob/main/Clickstream.ipynb\" target=\"_parent\"><img src=\"https://colab.research.google.com/assets/colab-badge.svg\" alt=\"Open In Colab\"/></a>"
      ]
    },
    {
      "cell_type": "markdown",
      "source": [
        "**Reading CSV FIle**"
      ],
      "metadata": {
        "id": "qpsQSjx4Z-VW"
      }
    },
    {
      "cell_type": "code",
      "source": [
        "import pandas as pd\n",
        "from google.colab import drive\n",
        "drive.mount('/content/drive')"
      ],
      "metadata": {
        "id": "kYyevEi6ZsuR"
      },
      "execution_count": null,
      "outputs": []
    },
    {
      "cell_type": "code",
      "source": [
        "Data = pd.read_csv('/content/drive/My Drive/Clickstream/Data2.csv')"
      ],
      "metadata": {
        "id": "8fniLZ0paGGT"
      },
      "execution_count": null,
      "outputs": []
    },
    {
      "cell_type": "code",
      "source": [
        "Data"
      ],
      "metadata": {
        "id": "tL3WYmITjhbv"
      },
      "execution_count": null,
      "outputs": []
    },
    {
      "cell_type": "markdown",
      "source": [],
      "metadata": {
        "id": "JIp-LIxwbwG5"
      }
    },
    {
      "cell_type": "code",
      "source": [
        "print(Data.isnull().sum())"
      ],
      "metadata": {
        "id": "vTxrQKtVFw8O"
      },
      "execution_count": null,
      "outputs": []
    },
    {
      "cell_type": "code",
      "source": [
        "for column in Data.columns:\n",
        "    print(f\"Total Uniqe Value Of: {column}: {len(Data[column].unique())} \")\n",
        "    print('___________________________________________')"
      ],
      "metadata": {
        "id": "GxAUKurktBOW"
      },
      "execution_count": null,
      "outputs": []
    },
    {
      "cell_type": "code",
      "source": [
        "from mlxtend.preprocessing import TransactionEncoder\n",
        "from mlxtend.frequent_patterns import apriori"
      ],
      "metadata": {
        "id": "3jL4b4NQq6k8"
      },
      "execution_count": null,
      "outputs": []
    },
    {
      "cell_type": "code",
      "source": [
        "def convert_to_list(sequence):\n",
        "    return sequence.split(',')"
      ],
      "metadata": {
        "id": "D0hsRvr6rI_r"
      },
      "execution_count": null,
      "outputs": []
    },
    {
      "cell_type": "code",
      "source": [
        "Data['Sequence'] = Data['Sequence'].apply(convert_to_list)\n",
        "\n",
        "Data['SequenceDurations'] = Data['SequenceDurations'].apply(lambda x: list(map(int, x.split(','))))\n",
        "\n",
        "Data['AverageDuration'] = Data['SequenceDurations'].apply(lambda x: sum(map(int, x)) / len(x) if len(x) > 0 else 0)\n",
        "\n",
        "te = TransactionEncoder()\n",
        "one_hot_encoded = te.fit_transform(Data['Sequence'])\n",
        "df = pd.DataFrame(one_hot_encoded, columns=te.columns_)\n"
      ],
      "metadata": {
        "id": "hWHwtRLrrmJW"
      },
      "execution_count": null,
      "outputs": []
    },
    {
      "cell_type": "code",
      "source": [
        "Data"
      ],
      "metadata": {
        "id": "jmxBOWlUCJFK"
      },
      "execution_count": null,
      "outputs": []
    },
    {
      "cell_type": "code",
      "source": [
        "df"
      ],
      "metadata": {
        "id": "6wLhc-pvqh91"
      },
      "execution_count": null,
      "outputs": []
    },
    {
      "cell_type": "code",
      "source": [
        "import matplotlib.pyplot as plt\n",
        "sequences = Data['Sequence']\n",
        "flat_sequence = [item for sublist in sequences for item in sublist]\n",
        "value_counts = pd.Series(flat_sequence).value_counts()\n",
        "\n",
        "plt.figure(figsize=(14, 7))\n",
        "plt.bar(value_counts.index, value_counts.values)\n",
        "plt.xlabel('Visited Page')\n",
        "plt.ylabel('Number of Visit:')\n",
        "plt.title('Analysis Page Visit')\n",
        "plt.show()"
      ],
      "metadata": {
        "id": "fKE8w9YP-Nka"
      },
      "execution_count": null,
      "outputs": []
    },
    {
      "cell_type": "code",
      "source": [
        "from sklearn import preprocessing\n",
        "Data['session_id']=preprocessing.LabelEncoder().fit_transform(Data['session_id'])\n",
        "Data['AverageDuration']=Data['AverageDuration'].apply(int)\n",
        "Data"
      ],
      "metadata": {
        "id": "sKayIV3oDsUS"
      },
      "execution_count": null,
      "outputs": []
    },
    {
      "cell_type": "code",
      "source": [
        "Extract=Data.drop(['SequenceDurations','Sequence'],axis=1)\n",
        "Extract"
      ],
      "metadata": {
        "id": "zc43tjV8EWP9"
      },
      "execution_count": null,
      "outputs": []
    },
    {
      "cell_type": "code",
      "source": [
        "import seaborn as sns\n",
        "sns.relplot(x=\"session_id\", y=\"AverageDuration\", kind=\"line\", data=Extract ,height=4, aspect=15/6)"
      ],
      "metadata": {
        "id": "xibDMfTyCrTf"
      },
      "execution_count": null,
      "outputs": []
    },
    {
      "cell_type": "code",
      "source": [
        "df"
      ],
      "metadata": {
        "id": "5I_81ukNB942"
      },
      "execution_count": null,
      "outputs": []
    },
    {
      "cell_type": "code",
      "source": [
        "#Fp growth\n",
        "from mlxtend.frequent_patterns import fpgrowth\n",
        "FPG_frequent_sequences = fpgrowth(df, min_support=0.2, use_colnames=True)\n",
        "\n",
        "# Apriori algorithm\n",
        "AP_frequent_sequences = apriori(df, min_support=.2, use_colnames=True)"
      ],
      "metadata": {
        "id": "J1AkTGyiEMcw"
      },
      "execution_count": null,
      "outputs": []
    },
    {
      "cell_type": "code",
      "source": [
        "print(\"Apriori Frequent Sequences:\")\n",
        "print(AP_frequent_sequences)\n",
        "print(\"===========================================\")\n",
        "print(\"FP Growth Frequent Sequences:\")\n",
        "print(FPG_frequent_sequences)\n",
        "\n",
        "\n",
        "print(\"\\nAverage Duration for Each Session:\")\n",
        "print(Data[['session_id', 'AverageDuration']])"
      ],
      "metadata": {
        "id": "Mz567TbjEiDS"
      },
      "execution_count": null,
      "outputs": []
    },
    {
      "cell_type": "code",
      "source": [
        "from mlxtend.frequent_patterns import association_rules"
      ],
      "metadata": {
        "id": "jvq3fvYu8TcR"
      },
      "execution_count": null,
      "outputs": []
    },
    {
      "cell_type": "code",
      "source": [
        "print('Apriori:')\n",
        "rules = association_rules(AP_frequent_sequences, metric =\"lift\", min_threshold = 1)\n",
        "rules = rules.sort_values(['confidence', 'lift'], ascending =[False, False])\n",
        "rules"
      ],
      "metadata": {
        "id": "JZS9Mk1f9F3y"
      },
      "execution_count": null,
      "outputs": []
    },
    {
      "cell_type": "code",
      "source": [
        "print('FP Growth:')\n",
        "rules = association_rules(FPG_frequent_sequences, metric =\"lift\", min_threshold = 1)\n",
        "rules = rules.sort_values(['confidence', 'lift'], ascending =[False, False])\n",
        "rules"
      ],
      "metadata": {
        "id": "W3RaH04I9cmy"
      },
      "execution_count": null,
      "outputs": []
    }
  ]
}